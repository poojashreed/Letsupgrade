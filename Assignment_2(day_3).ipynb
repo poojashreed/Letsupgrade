{
  "nbformat": 4,
  "nbformat_minor": 0,
  "metadata": {
    "colab": {
      "name": "Assignment 2(day 3)",
      "provenance": [],
      "authorship_tag": "ABX9TyNctYzBMv/VJClhOnD/g8Ep",
      "include_colab_link": true
    },
    "kernelspec": {
      "name": "python3",
      "display_name": "Python 3"
    }
  },
  "cells": [
    {
      "cell_type": "markdown",
      "metadata": {
        "id": "view-in-github",
        "colab_type": "text"
      },
      "source": [
        "<a href=\"https://colab.research.google.com/github/poojashreed/Letsupgrade/blob/master/Assignment_2(day_3).ipynb\" target=\"_parent\"><img src=\"https://colab.research.google.com/assets/colab-badge.svg\" alt=\"Open In Colab\"/></a>"
      ]
    },
    {
      "cell_type": "code",
      "metadata": {
        "id": "FCMwQ2iy0ITV",
        "colab_type": "code",
        "colab": {}
      },
      "source": [
        "r=int(input(\"Enter upper limit: \"))\n",
        "for a in range(2,r+1):\n",
        "    k=0\n",
        "    for i in range(2,a//2+1):\n",
        "        if(a%i==0):\n",
        "            k=k+1\n",
        "    if(k<=0):\n",
        "        print(a)"
      ],
      "execution_count": null,
      "outputs": []
    }
  ]
}