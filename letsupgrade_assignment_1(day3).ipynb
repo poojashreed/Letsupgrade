{
  "nbformat": 4,
  "nbformat_minor": 0,
  "metadata": {
    "colab": {
      "name": "letsupgrade_assignment 1(day3)",
      "provenance": [],
      "authorship_tag": "ABX9TyNJGhguWMWhvMeB6HAiZ+lm",
      "include_colab_link": true
    },
    "kernelspec": {
      "name": "python3",
      "display_name": "Python 3"
    }
  },
  "cells": [
    {
      "cell_type": "markdown",
      "metadata": {
        "id": "view-in-github",
        "colab_type": "text"
      },
      "source": [
        "<a href=\"https://colab.research.google.com/github/poojashreed/Letsupgrade/blob/master/letsupgrade_assignment_1(day3).ipynb\" target=\"_parent\"><img src=\"https://colab.research.google.com/assets/colab-badge.svg\" alt=\"Open In Colab\"/></a>"
      ]
    },
    {
      "cell_type": "code",
      "metadata": {
        "id": "VmdJcIEmgbfu",
        "colab_type": "code",
        "colab": {
          "base_uri": "https://localhost:8080/",
          "height": 34
        },
        "outputId": "ab8cc761-cc51-416f-9eab-8d9b5613297c"
      },
      "source": [
        " piolet=1001\n",
        " \n",
        "if piolet==1000:\n",
        "  print(\"safe to land\")\n",
        "elif  piolet>1000 and piolet<=5000:\n",
        "  print(\"Bring down to 1000\")\n",
        "else:\n",
        "  print(\"Turn Around\")"
      ],
      "execution_count": 26,
      "outputs": [
        {
          "output_type": "stream",
          "text": [
            "Bring down to 1000\n"
          ],
          "name": "stdout"
        }
      ]
    }
  ]
}